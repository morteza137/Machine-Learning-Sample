{
 "cells": [
  {
   "cell_type": "code",
   "execution_count": 1,
   "id": "93031309-2593-4da6-ac09-0db2d92a0878",
   "metadata": {},
   "outputs": [],
   "source": [
    "import numpy as np\n",
    "import pandas as pd\n",
    "import matplotlib.pyplot as plt"
   ]
  },
  {
   "cell_type": "code",
   "execution_count": 2,
   "id": "bfcb4059-c0e2-4ab5-a5e9-e8cc40b6e9b6",
   "metadata": {},
   "outputs": [
    {
     "data": {
      "text/html": [
       "<div>\n",
       "<style scoped>\n",
       "    .dataframe tbody tr th:only-of-type {\n",
       "        vertical-align: middle;\n",
       "    }\n",
       "\n",
       "    .dataframe tbody tr th {\n",
       "        vertical-align: top;\n",
       "    }\n",
       "\n",
       "    .dataframe thead th {\n",
       "        text-align: right;\n",
       "    }\n",
       "</style>\n",
       "<table border=\"1\" class=\"dataframe\">\n",
       "  <thead>\n",
       "    <tr style=\"text-align: right;\">\n",
       "      <th></th>\n",
       "      <th>Area</th>\n",
       "      <th>Room</th>\n",
       "      <th>Parking</th>\n",
       "      <th>Warehouse</th>\n",
       "      <th>Elevator</th>\n",
       "      <th>Address</th>\n",
       "      <th>Price</th>\n",
       "      <th>Price(USD)</th>\n",
       "    </tr>\n",
       "  </thead>\n",
       "  <tbody>\n",
       "    <tr>\n",
       "      <th>0</th>\n",
       "      <td>63</td>\n",
       "      <td>1</td>\n",
       "      <td>True</td>\n",
       "      <td>True</td>\n",
       "      <td>True</td>\n",
       "      <td>Shahran</td>\n",
       "      <td>1.850000e+09</td>\n",
       "      <td>61666.67</td>\n",
       "    </tr>\n",
       "    <tr>\n",
       "      <th>1</th>\n",
       "      <td>60</td>\n",
       "      <td>1</td>\n",
       "      <td>True</td>\n",
       "      <td>True</td>\n",
       "      <td>True</td>\n",
       "      <td>Shahran</td>\n",
       "      <td>1.850000e+09</td>\n",
       "      <td>61666.67</td>\n",
       "    </tr>\n",
       "    <tr>\n",
       "      <th>2</th>\n",
       "      <td>79</td>\n",
       "      <td>2</td>\n",
       "      <td>True</td>\n",
       "      <td>True</td>\n",
       "      <td>True</td>\n",
       "      <td>Pardis</td>\n",
       "      <td>5.500000e+08</td>\n",
       "      <td>18333.33</td>\n",
       "    </tr>\n",
       "    <tr>\n",
       "      <th>3</th>\n",
       "      <td>95</td>\n",
       "      <td>2</td>\n",
       "      <td>True</td>\n",
       "      <td>True</td>\n",
       "      <td>True</td>\n",
       "      <td>Shahrake Qods</td>\n",
       "      <td>9.025000e+08</td>\n",
       "      <td>30083.33</td>\n",
       "    </tr>\n",
       "    <tr>\n",
       "      <th>4</th>\n",
       "      <td>123</td>\n",
       "      <td>2</td>\n",
       "      <td>True</td>\n",
       "      <td>True</td>\n",
       "      <td>True</td>\n",
       "      <td>Shahrake Gharb</td>\n",
       "      <td>7.000000e+09</td>\n",
       "      <td>233333.33</td>\n",
       "    </tr>\n",
       "    <tr>\n",
       "      <th>...</th>\n",
       "      <td>...</td>\n",
       "      <td>...</td>\n",
       "      <td>...</td>\n",
       "      <td>...</td>\n",
       "      <td>...</td>\n",
       "      <td>...</td>\n",
       "      <td>...</td>\n",
       "      <td>...</td>\n",
       "    </tr>\n",
       "    <tr>\n",
       "      <th>3474</th>\n",
       "      <td>86</td>\n",
       "      <td>2</td>\n",
       "      <td>True</td>\n",
       "      <td>True</td>\n",
       "      <td>True</td>\n",
       "      <td>Southern Janatabad</td>\n",
       "      <td>3.500000e+09</td>\n",
       "      <td>116666.67</td>\n",
       "    </tr>\n",
       "    <tr>\n",
       "      <th>3475</th>\n",
       "      <td>83</td>\n",
       "      <td>2</td>\n",
       "      <td>True</td>\n",
       "      <td>True</td>\n",
       "      <td>True</td>\n",
       "      <td>Niavaran</td>\n",
       "      <td>6.800000e+09</td>\n",
       "      <td>226666.67</td>\n",
       "    </tr>\n",
       "    <tr>\n",
       "      <th>3476</th>\n",
       "      <td>75</td>\n",
       "      <td>2</td>\n",
       "      <td>False</td>\n",
       "      <td>False</td>\n",
       "      <td>False</td>\n",
       "      <td>Parand</td>\n",
       "      <td>3.650000e+08</td>\n",
       "      <td>12166.67</td>\n",
       "    </tr>\n",
       "    <tr>\n",
       "      <th>3477</th>\n",
       "      <td>105</td>\n",
       "      <td>2</td>\n",
       "      <td>True</td>\n",
       "      <td>True</td>\n",
       "      <td>True</td>\n",
       "      <td>Dorous</td>\n",
       "      <td>5.600000e+09</td>\n",
       "      <td>186666.67</td>\n",
       "    </tr>\n",
       "    <tr>\n",
       "      <th>3478</th>\n",
       "      <td>82</td>\n",
       "      <td>2</td>\n",
       "      <td>False</td>\n",
       "      <td>True</td>\n",
       "      <td>True</td>\n",
       "      <td>Parand</td>\n",
       "      <td>3.600000e+08</td>\n",
       "      <td>12000.00</td>\n",
       "    </tr>\n",
       "  </tbody>\n",
       "</table>\n",
       "<p>3479 rows × 8 columns</p>\n",
       "</div>"
      ],
      "text/plain": [
       "     Area  Room  Parking  Warehouse  Elevator             Address  \\\n",
       "0      63     1     True       True      True             Shahran   \n",
       "1      60     1     True       True      True             Shahran   \n",
       "2      79     2     True       True      True              Pardis   \n",
       "3      95     2     True       True      True       Shahrake Qods   \n",
       "4     123     2     True       True      True      Shahrake Gharb   \n",
       "...   ...   ...      ...        ...       ...                 ...   \n",
       "3474   86     2     True       True      True  Southern Janatabad   \n",
       "3475   83     2     True       True      True            Niavaran   \n",
       "3476   75     2    False      False     False              Parand   \n",
       "3477  105     2     True       True      True              Dorous   \n",
       "3478   82     2    False       True      True              Parand   \n",
       "\n",
       "             Price  Price(USD)  \n",
       "0     1.850000e+09    61666.67  \n",
       "1     1.850000e+09    61666.67  \n",
       "2     5.500000e+08    18333.33  \n",
       "3     9.025000e+08    30083.33  \n",
       "4     7.000000e+09   233333.33  \n",
       "...            ...         ...  \n",
       "3474  3.500000e+09   116666.67  \n",
       "3475  6.800000e+09   226666.67  \n",
       "3476  3.650000e+08    12166.67  \n",
       "3477  5.600000e+09   186666.67  \n",
       "3478  3.600000e+08    12000.00  \n",
       "\n",
       "[3479 rows x 8 columns]"
      ]
     },
     "execution_count": 2,
     "metadata": {},
     "output_type": "execute_result"
    }
   ],
   "source": [
    "df = pd.read_csv(\"housePrice.csv\")\n",
    "df"
   ]
  },
  {
   "cell_type": "code",
   "execution_count": 3,
   "id": "afb54936-cfe2-417a-aa07-1ff3ec2b1f56",
   "metadata": {},
   "outputs": [
    {
     "data": {
      "text/html": [
       "<div>\n",
       "<style scoped>\n",
       "    .dataframe tbody tr th:only-of-type {\n",
       "        vertical-align: middle;\n",
       "    }\n",
       "\n",
       "    .dataframe tbody tr th {\n",
       "        vertical-align: top;\n",
       "    }\n",
       "\n",
       "    .dataframe thead th {\n",
       "        text-align: right;\n",
       "    }\n",
       "</style>\n",
       "<table border=\"1\" class=\"dataframe\">\n",
       "  <thead>\n",
       "    <tr style=\"text-align: right;\">\n",
       "      <th></th>\n",
       "      <th>Area</th>\n",
       "      <th>Room</th>\n",
       "      <th>Parking</th>\n",
       "      <th>Warehouse</th>\n",
       "      <th>Elevator</th>\n",
       "      <th>Address</th>\n",
       "      <th>Price</th>\n",
       "      <th>Price(USD)</th>\n",
       "    </tr>\n",
       "  </thead>\n",
       "  <tbody>\n",
       "    <tr>\n",
       "      <th>807</th>\n",
       "      <td>1,000</td>\n",
       "      <td>2</td>\n",
       "      <td>True</td>\n",
       "      <td>True</td>\n",
       "      <td>False</td>\n",
       "      <td>Damavand</td>\n",
       "      <td>7.000000e+09</td>\n",
       "      <td>233333.33</td>\n",
       "    </tr>\n",
       "    <tr>\n",
       "      <th>709</th>\n",
       "      <td>16,160,000,000</td>\n",
       "      <td>3</td>\n",
       "      <td>True</td>\n",
       "      <td>True</td>\n",
       "      <td>True</td>\n",
       "      <td>Pasdaran</td>\n",
       "      <td>1.616000e+10</td>\n",
       "      <td>538666.67</td>\n",
       "    </tr>\n",
       "    <tr>\n",
       "      <th>2802</th>\n",
       "      <td>2,550,000,000</td>\n",
       "      <td>2</td>\n",
       "      <td>True</td>\n",
       "      <td>True</td>\n",
       "      <td>True</td>\n",
       "      <td>Central Janatabad</td>\n",
       "      <td>2.550000e+09</td>\n",
       "      <td>85000.00</td>\n",
       "    </tr>\n",
       "    <tr>\n",
       "      <th>570</th>\n",
       "      <td>3,310,000,000</td>\n",
       "      <td>2</td>\n",
       "      <td>True</td>\n",
       "      <td>True</td>\n",
       "      <td>True</td>\n",
       "      <td>Ostad Moein</td>\n",
       "      <td>3.310000e+09</td>\n",
       "      <td>110333.33</td>\n",
       "    </tr>\n",
       "    <tr>\n",
       "      <th>2171</th>\n",
       "      <td>3,600</td>\n",
       "      <td>2</td>\n",
       "      <td>False</td>\n",
       "      <td>False</td>\n",
       "      <td>False</td>\n",
       "      <td>Shahryar</td>\n",
       "      <td>9.720000e+09</td>\n",
       "      <td>324000.00</td>\n",
       "    </tr>\n",
       "    <tr>\n",
       "      <th>1604</th>\n",
       "      <td>8,400,000,000</td>\n",
       "      <td>2</td>\n",
       "      <td>True</td>\n",
       "      <td>True</td>\n",
       "      <td>True</td>\n",
       "      <td>Gheitarieh</td>\n",
       "      <td>8.700000e+09</td>\n",
       "      <td>290000.00</td>\n",
       "    </tr>\n",
       "    <tr>\n",
       "      <th>934</th>\n",
       "      <td>100</td>\n",
       "      <td>2</td>\n",
       "      <td>True</td>\n",
       "      <td>True</td>\n",
       "      <td>True</td>\n",
       "      <td>West Ferdows Boulevard</td>\n",
       "      <td>3.450000e+09</td>\n",
       "      <td>115000.00</td>\n",
       "    </tr>\n",
       "    <tr>\n",
       "      <th>1080</th>\n",
       "      <td>100</td>\n",
       "      <td>2</td>\n",
       "      <td>False</td>\n",
       "      <td>True</td>\n",
       "      <td>False</td>\n",
       "      <td>Tehransar</td>\n",
       "      <td>2.000000e+09</td>\n",
       "      <td>66666.67</td>\n",
       "    </tr>\n",
       "    <tr>\n",
       "      <th>1595</th>\n",
       "      <td>100</td>\n",
       "      <td>2</td>\n",
       "      <td>False</td>\n",
       "      <td>True</td>\n",
       "      <td>False</td>\n",
       "      <td>Tehransar</td>\n",
       "      <td>2.000000e+09</td>\n",
       "      <td>66666.67</td>\n",
       "    </tr>\n",
       "    <tr>\n",
       "      <th>1597</th>\n",
       "      <td>100</td>\n",
       "      <td>2</td>\n",
       "      <td>True</td>\n",
       "      <td>True</td>\n",
       "      <td>True</td>\n",
       "      <td>Gheitarieh</td>\n",
       "      <td>8.200000e+09</td>\n",
       "      <td>273333.33</td>\n",
       "    </tr>\n",
       "  </tbody>\n",
       "</table>\n",
       "</div>"
      ],
      "text/plain": [
       "                  Area  Room  Parking  Warehouse  Elevator  \\\n",
       "807             1,000      2     True       True     False   \n",
       "709    16,160,000,000      3     True       True      True   \n",
       "2802    2,550,000,000      2     True       True      True   \n",
       "570     3,310,000,000      2     True       True      True   \n",
       "2171            3,600      2    False      False     False   \n",
       "1604    8,400,000,000      2     True       True      True   \n",
       "934                100     2     True       True      True   \n",
       "1080               100     2    False       True     False   \n",
       "1595               100     2    False       True     False   \n",
       "1597               100     2     True       True      True   \n",
       "\n",
       "                     Address         Price  Price(USD)  \n",
       "807                 Damavand  7.000000e+09   233333.33  \n",
       "709                 Pasdaran  1.616000e+10   538666.67  \n",
       "2802       Central Janatabad  2.550000e+09    85000.00  \n",
       "570              Ostad Moein  3.310000e+09   110333.33  \n",
       "2171                Shahryar  9.720000e+09   324000.00  \n",
       "1604              Gheitarieh  8.700000e+09   290000.00  \n",
       "934   West Ferdows Boulevard  3.450000e+09   115000.00  \n",
       "1080               Tehransar  2.000000e+09    66666.67  \n",
       "1595               Tehransar  2.000000e+09    66666.67  \n",
       "1597              Gheitarieh  8.200000e+09   273333.33  "
      ]
     },
     "execution_count": 3,
     "metadata": {},
     "output_type": "execute_result"
    }
   ],
   "source": [
    "df.sort_values(by='Area').head(10)"
   ]
  },
  {
   "cell_type": "code",
   "execution_count": 4,
   "id": "6af26c7f-2584-4f46-96ae-984438827dad",
   "metadata": {
    "scrolled": true
   },
   "outputs": [
    {
     "data": {
      "text/html": [
       "<div>\n",
       "<style scoped>\n",
       "    .dataframe tbody tr th:only-of-type {\n",
       "        vertical-align: middle;\n",
       "    }\n",
       "\n",
       "    .dataframe tbody tr th {\n",
       "        vertical-align: top;\n",
       "    }\n",
       "\n",
       "    .dataframe thead th {\n",
       "        text-align: right;\n",
       "    }\n",
       "</style>\n",
       "<table border=\"1\" class=\"dataframe\">\n",
       "  <thead>\n",
       "    <tr style=\"text-align: right;\">\n",
       "      <th></th>\n",
       "      <th>Area</th>\n",
       "      <th>Room</th>\n",
       "      <th>Parking</th>\n",
       "      <th>Warehouse</th>\n",
       "      <th>Elevator</th>\n",
       "      <th>Address</th>\n",
       "      <th>Price</th>\n",
       "      <th>Price(USD)</th>\n",
       "    </tr>\n",
       "  </thead>\n",
       "  <tbody>\n",
       "    <tr>\n",
       "      <th>3315</th>\n",
       "      <td>120</td>\n",
       "      <td>2</td>\n",
       "      <td>True</td>\n",
       "      <td>True</td>\n",
       "      <td>True</td>\n",
       "      <td>NaN</td>\n",
       "      <td>1.440000e+09</td>\n",
       "      <td>48000.00</td>\n",
       "    </tr>\n",
       "    <tr>\n",
       "      <th>3318</th>\n",
       "      <td>103</td>\n",
       "      <td>2</td>\n",
       "      <td>True</td>\n",
       "      <td>True</td>\n",
       "      <td>True</td>\n",
       "      <td>NaN</td>\n",
       "      <td>1.150000e+09</td>\n",
       "      <td>38333.33</td>\n",
       "    </tr>\n",
       "    <tr>\n",
       "      <th>3355</th>\n",
       "      <td>135</td>\n",
       "      <td>3</td>\n",
       "      <td>True</td>\n",
       "      <td>True</td>\n",
       "      <td>True</td>\n",
       "      <td>NaN</td>\n",
       "      <td>1.500000e+09</td>\n",
       "      <td>50000.00</td>\n",
       "    </tr>\n",
       "    <tr>\n",
       "      <th>3401</th>\n",
       "      <td>78</td>\n",
       "      <td>2</td>\n",
       "      <td>True</td>\n",
       "      <td>False</td>\n",
       "      <td>True</td>\n",
       "      <td>NaN</td>\n",
       "      <td>7.400000e+08</td>\n",
       "      <td>24666.67</td>\n",
       "    </tr>\n",
       "    <tr>\n",
       "      <th>3434</th>\n",
       "      <td>87</td>\n",
       "      <td>2</td>\n",
       "      <td>True</td>\n",
       "      <td>True</td>\n",
       "      <td>True</td>\n",
       "      <td>NaN</td>\n",
       "      <td>6.800000e+08</td>\n",
       "      <td>22666.67</td>\n",
       "    </tr>\n",
       "  </tbody>\n",
       "</table>\n",
       "</div>"
      ],
      "text/plain": [
       "     Area  Room  Parking  Warehouse  Elevator Address         Price  \\\n",
       "3315  120     2     True       True      True     NaN  1.440000e+09   \n",
       "3318  103     2     True       True      True     NaN  1.150000e+09   \n",
       "3355  135     3     True       True      True     NaN  1.500000e+09   \n",
       "3401   78     2     True      False      True     NaN  7.400000e+08   \n",
       "3434   87     2     True       True      True     NaN  6.800000e+08   \n",
       "\n",
       "      Price(USD)  \n",
       "3315    48000.00  \n",
       "3318    38333.33  \n",
       "3355    50000.00  \n",
       "3401    24666.67  \n",
       "3434    22666.67  "
      ]
     },
     "execution_count": 4,
     "metadata": {},
     "output_type": "execute_result"
    }
   ],
   "source": [
    "df.sort_values(by='Address').tail()"
   ]
  },
  {
   "cell_type": "markdown",
   "id": "f4760ded-56fb-435b-92e0-fc01b151fab0",
   "metadata": {},
   "source": [
    "#### drop dataset with invalid values"
   ]
  },
  {
   "cell_type": "code",
   "execution_count": 6,
   "id": "f6cd009e-871c-49b8-b973-75a8135ff3a1",
   "metadata": {},
   "outputs": [
    {
     "data": {
      "text/plain": [
       "Area           object\n",
       "Room            int64\n",
       "Parking          bool\n",
       "Warehouse        bool\n",
       "Elevator         bool\n",
       "Address        object\n",
       "Price         float64\n",
       "Price(USD)    float64\n",
       "dtype: object"
      ]
     },
     "execution_count": 6,
     "metadata": {},
     "output_type": "execute_result"
    }
   ],
   "source": [
    "df = df.drop([570,709,1604,2802])\n",
    "df = df.drop(df[pd.isnull(df['Address'])].index, inplace = False)\n",
    "df.dtypes"
   ]
  },
  {
   "cell_type": "markdown",
   "id": "987a8992-bfac-4f01-9d96-78d7777cc9aa",
   "metadata": {},
   "source": [
    "### convert Area from object to float and bolean data to int"
   ]
  },
  {
   "cell_type": "code",
   "execution_count": 8,
   "id": "02f0708b-c6cc-4ba9-89e9-20693d1d60bb",
   "metadata": {},
   "outputs": [
    {
     "data": {
      "text/plain": [
       "Area          float64\n",
       "Room            int64\n",
       "Parking         int32\n",
       "Warehouse       int32\n",
       "Elevator        int32\n",
       "Address        object\n",
       "Price         float64\n",
       "Price(USD)    float64\n",
       "dtype: object"
      ]
     },
     "execution_count": 8,
     "metadata": {},
     "output_type": "execute_result"
    }
   ],
   "source": [
    "df['Area'] = pd.to_numeric(df['Area'], errors='coerce')\n",
    "df = df.drop(df[pd.isnull(df['Area'])].index, inplace = False)\n",
    "df[\"Parking\"] = df[\"Parking\"].astype(int)\n",
    "df[\"Warehouse\"] = df[\"Warehouse\"].astype(int)\n",
    "df[\"Elevator\"] = df[\"Elevator\"].astype(int)\n",
    "#df['Address'] = df['Address'].astype('string')\n",
    "df.dtypes"
   ]
  },
  {
   "cell_type": "code",
   "execution_count": 9,
   "id": "65e0d22f-c20e-4f35-9afe-1a4d80123fb1",
   "metadata": {},
   "outputs": [
    {
     "data": {
      "text/plain": [
       "Text(0, 0.5, 'price')"
      ]
     },
     "execution_count": 9,
     "metadata": {},
     "output_type": "execute_result"
    },
    {
     "data": {
      "image/png": "[encoded data removed]",
      "text/plain": [
       "<Figure size 640x480 with 1 Axes>"
      ]
     },
     "metadata": {},
     "output_type": "display_data"
    }
   ],
   "source": [
    "x = np.asanyarray(df['Area'])\n",
    "y = np.asanyarray(df['Price(USD)']) / max(df['Price(USD)'])\n",
    "plt.scatter(x,y,color=\"red\")\n",
    "plt.xlabel('Area')\n",
    "plt.ylabel('price')"
   ]
  },
  {
   "cell_type": "code",
   "execution_count": 45,
   "id": "cdc0b21a-e6d8-4bb6-853b-2514f00aa583",
   "metadata": {},
   "outputs": [],
   "source": [
    "msk = np.random.rand(len(df)) < 0.8\n",
    "train = df[msk]\n",
    "test = df[~msk]"
   ]
  },
  {
   "cell_type": "code",
   "execution_count": 47,
   "id": "b373db8d-a21e-47d3-9aab-f849c2e03842",
   "metadata": {},
   "outputs": [
    {
     "name": "stdout",
     "output_type": "stream",
     "text": [
      "[[ 2398.00411024 48655.92853806 -7564.30173314 37846.25930549\n",
      "  41835.90434008]]\n",
      "[-239810.36016177]\n"
     ]
    }
   ],
   "source": [
    "from sklearn import linear_model\n",
    "regr = linear_model.LinearRegression()\n",
    "train_x = np.asanyarray(train[['Area','Room','Parking','Warehouse','Elevator']])\n",
    "train_y = np.asanyarray(train[['Price(USD)']])\n",
    "regr.fit(train_x,train_y)\n",
    "print (regr.coef_)\n",
    "print (regr.intercept_)"
   ]
  },
  {
   "cell_type": "code",
   "execution_count": 49,
   "id": "91dca53f-e320-421f-9aa6-ed8b12d58b33",
   "metadata": {},
   "outputs": [
    {
     "name": "stdout",
     "output_type": "stream",
     "text": [
      "Mean absolute error: 104506.61\n",
      "Residual sum of squares: 45273623508.61\n",
      "Variance score: 0.49\n"
     ]
    },
    {
     "name": "stderr",
     "output_type": "stream",
     "text": [
      "C:\\Users\\moreza\\anaconda3\\Lib\\site-packages\\sklearn\\base.py:486: UserWarning: X has feature names, but LinearRegression was fitted without feature names\n",
      "  warnings.warn(\n"
     ]
    }
   ],
   "source": [
    "train_y_= regr.predict(test[['Area','Room','Parking','Warehouse','Elevator']])\n",
    "test_x = np.asanyarray(test[['Area','Room','Parking','Warehouse','Elevator']])\n",
    "test_y = np.asanyarray(test[['Price(USD)']])\n",
    "\n",
    "print(\"Mean absolute error: %.2f\" % np.mean(np.absolute((train_y_ - test_y))))\n",
    "print(\"Residual sum of squares: %.2f\" % np.mean((train_y_ - test_y) ** 2))\n",
    "\n",
    "# Explained variance score: 1 is perfect prediction\n",
    "print('Variance score: %.2f' % regr.score(test_x, test_y))"
   ]
  },
  {
   "cell_type": "markdown",
   "id": "27bde717-f982-4bad-ac9e-928ca554143b",
   "metadata": {},
   "source": [
    "### Replace space in Address"
   ]
  },
  {
   "cell_type": "code",
   "execution_count": 14,
   "id": "11e6a06a-026c-434f-9868-dbe7c8221cc5",
   "metadata": {},
   "outputs": [
    {
     "data": {
      "text/plain": [
       "0                 Shahran\n",
       "1                 Shahran\n",
       "2                  Pardis\n",
       "3            ShahrakeQods\n",
       "4           ShahrakeGharb\n",
       "              ...        \n",
       "3474    SouthernJanatabad\n",
       "3475             Niavaran\n",
       "3476               Parand\n",
       "3477               Dorous\n",
       "3478               Parand\n",
       "Name: Address, Length: 3450, dtype: object"
      ]
     },
     "execution_count": 14,
     "metadata": {},
     "output_type": "execute_result"
    }
   ],
   "source": [
    "df['Address'] = df['Address'].str.replace(\" \", \"\")\n",
    "df['Address']"
   ]
  },
  {
   "cell_type": "code",
   "execution_count": 15,
   "id": "9f4ee339-153d-4848-bb62-866ba1347aa8",
   "metadata": {},
   "outputs": [
    {
     "data": {
      "text/plain": [
       "<Axes: >"
      ]
     },
     "execution_count": 15,
     "metadata": {},
     "output_type": "execute_result"
    },
    {
     "data": {
      "image/png": "[encoded data removed]",
      "text/plain": [
       "<Figure size 640x480 with 1 Axes>"
      ]
     },
     "metadata": {},
     "output_type": "display_data"
    }
   ],
   "source": [
    "df['Area'].hist()"
   ]
  },
  {
   "cell_type": "code",
   "execution_count": 16,
   "id": "da5c4170-1578-49e1-b2ff-e0cd889d9c33",
   "metadata": {},
   "outputs": [
    {
     "data": {
      "text/html": [
       "<div>\n",
       "<style scoped>\n",
       "    .dataframe tbody tr th:only-of-type {\n",
       "        vertical-align: middle;\n",
       "    }\n",
       "\n",
       "    .dataframe tbody tr th {\n",
       "        vertical-align: top;\n",
       "    }\n",
       "\n",
       "    .dataframe thead th {\n",
       "        text-align: right;\n",
       "    }\n",
       "</style>\n",
       "<table border=\"1\" class=\"dataframe\">\n",
       "  <thead>\n",
       "    <tr style=\"text-align: right;\">\n",
       "      <th></th>\n",
       "      <th>Area</th>\n",
       "      <th>Room</th>\n",
       "      <th>Parking</th>\n",
       "      <th>Warehouse</th>\n",
       "      <th>Elevator</th>\n",
       "      <th>Address</th>\n",
       "      <th>Price</th>\n",
       "      <th>Price(USD)</th>\n",
       "    </tr>\n",
       "  </thead>\n",
       "  <tbody>\n",
       "    <tr>\n",
       "      <th>3211</th>\n",
       "      <td>30.0</td>\n",
       "      <td>0</td>\n",
       "      <td>0</td>\n",
       "      <td>1</td>\n",
       "      <td>0</td>\n",
       "      <td>OstadMoein</td>\n",
       "      <td>5.000000e+08</td>\n",
       "      <td>16666.67</td>\n",
       "    </tr>\n",
       "    <tr>\n",
       "      <th>2324</th>\n",
       "      <td>32.0</td>\n",
       "      <td>1</td>\n",
       "      <td>0</td>\n",
       "      <td>1</td>\n",
       "      <td>1</td>\n",
       "      <td>Eskandari</td>\n",
       "      <td>9.400000e+08</td>\n",
       "      <td>31333.33</td>\n",
       "    </tr>\n",
       "    <tr>\n",
       "      <th>2321</th>\n",
       "      <td>32.0</td>\n",
       "      <td>1</td>\n",
       "      <td>0</td>\n",
       "      <td>1</td>\n",
       "      <td>0</td>\n",
       "      <td>Hashemi</td>\n",
       "      <td>6.100000e+08</td>\n",
       "      <td>20333.33</td>\n",
       "    </tr>\n",
       "    <tr>\n",
       "      <th>2783</th>\n",
       "      <td>33.0</td>\n",
       "      <td>1</td>\n",
       "      <td>0</td>\n",
       "      <td>1</td>\n",
       "      <td>0</td>\n",
       "      <td>Beryanak</td>\n",
       "      <td>5.600000e+08</td>\n",
       "      <td>18666.67</td>\n",
       "    </tr>\n",
       "    <tr>\n",
       "      <th>2307</th>\n",
       "      <td>35.0</td>\n",
       "      <td>1</td>\n",
       "      <td>0</td>\n",
       "      <td>1</td>\n",
       "      <td>0</td>\n",
       "      <td>Salsabil</td>\n",
       "      <td>6.600000e+08</td>\n",
       "      <td>22000.00</td>\n",
       "    </tr>\n",
       "    <tr>\n",
       "      <th>...</th>\n",
       "      <td>...</td>\n",
       "      <td>...</td>\n",
       "      <td>...</td>\n",
       "      <td>...</td>\n",
       "      <td>...</td>\n",
       "      <td>...</td>\n",
       "      <td>...</td>\n",
       "      <td>...</td>\n",
       "    </tr>\n",
       "    <tr>\n",
       "      <th>628</th>\n",
       "      <td>245.0</td>\n",
       "      <td>3</td>\n",
       "      <td>1</td>\n",
       "      <td>1</td>\n",
       "      <td>1</td>\n",
       "      <td>Farmanieh</td>\n",
       "      <td>2.205000e+10</td>\n",
       "      <td>735000.00</td>\n",
       "    </tr>\n",
       "    <tr>\n",
       "      <th>160</th>\n",
       "      <td>245.0</td>\n",
       "      <td>3</td>\n",
       "      <td>1</td>\n",
       "      <td>1</td>\n",
       "      <td>1</td>\n",
       "      <td>Farmanieh</td>\n",
       "      <td>2.695000e+10</td>\n",
       "      <td>898333.33</td>\n",
       "    </tr>\n",
       "    <tr>\n",
       "      <th>1650</th>\n",
       "      <td>245.0</td>\n",
       "      <td>3</td>\n",
       "      <td>1</td>\n",
       "      <td>1</td>\n",
       "      <td>1</td>\n",
       "      <td>Niavaran</td>\n",
       "      <td>2.156000e+10</td>\n",
       "      <td>718666.67</td>\n",
       "    </tr>\n",
       "    <tr>\n",
       "      <th>459</th>\n",
       "      <td>245.0</td>\n",
       "      <td>3</td>\n",
       "      <td>1</td>\n",
       "      <td>1</td>\n",
       "      <td>1</td>\n",
       "      <td>Aqdasieh</td>\n",
       "      <td>3.650000e+10</td>\n",
       "      <td>1216666.67</td>\n",
       "    </tr>\n",
       "    <tr>\n",
       "      <th>411</th>\n",
       "      <td>246.0</td>\n",
       "      <td>3</td>\n",
       "      <td>1</td>\n",
       "      <td>1</td>\n",
       "      <td>1</td>\n",
       "      <td>Ekhtiarieh</td>\n",
       "      <td>2.250000e+10</td>\n",
       "      <td>750000.00</td>\n",
       "    </tr>\n",
       "  </tbody>\n",
       "</table>\n",
       "<p>3344 rows × 8 columns</p>\n",
       "</div>"
      ],
      "text/plain": [
       "       Area  Room  Parking  Warehouse  Elevator     Address         Price  \\\n",
       "3211   30.0     0        0          1         0  OstadMoein  5.000000e+08   \n",
       "2324   32.0     1        0          1         1   Eskandari  9.400000e+08   \n",
       "2321   32.0     1        0          1         0     Hashemi  6.100000e+08   \n",
       "2783   33.0     1        0          1         0    Beryanak  5.600000e+08   \n",
       "2307   35.0     1        0          1         0    Salsabil  6.600000e+08   \n",
       "...     ...   ...      ...        ...       ...         ...           ...   \n",
       "628   245.0     3        1          1         1   Farmanieh  2.205000e+10   \n",
       "160   245.0     3        1          1         1   Farmanieh  2.695000e+10   \n",
       "1650  245.0     3        1          1         1    Niavaran  2.156000e+10   \n",
       "459   245.0     3        1          1         1    Aqdasieh  3.650000e+10   \n",
       "411   246.0     3        1          1         1  Ekhtiarieh  2.250000e+10   \n",
       "\n",
       "      Price(USD)  \n",
       "3211    16666.67  \n",
       "2324    31333.33  \n",
       "2321    20333.33  \n",
       "2783    18666.67  \n",
       "2307    22000.00  \n",
       "...          ...  \n",
       "628    735000.00  \n",
       "160    898333.33  \n",
       "1650   718666.67  \n",
       "459   1216666.67  \n",
       "411    750000.00  \n",
       "\n",
       "[3344 rows x 8 columns]"
      ]
     },
     "execution_count": 16,
     "metadata": {},
     "output_type": "execute_result"
    }
   ],
   "source": [
    "cdf = df\n",
    "cdf = cdf.drop(cdf[cdf['Area'] >= 250].index, inplace = False)\n",
    "cdf.sort_values(by='Area')"
   ]
  },
  {
   "cell_type": "code",
   "execution_count": 17,
   "id": "3a323292-bc57-40ad-bd12-636bb49750d9",
   "metadata": {},
   "outputs": [
    {
     "data": {
      "text/plain": [
       "Text(0, 0.5, 'price')"
      ]
     },
     "execution_count": 17,
     "metadata": {},
     "output_type": "execute_result"
    },
    {
     "data": {
      "image/png": "[encoded data removed]",
      "text/plain": [
       "<Figure size 640x480 with 1 Axes>"
      ]
     },
     "metadata": {},
     "output_type": "display_data"
    }
   ],
   "source": [
    "x = np.asanyarray(cdf['Area'])\n",
    "y = np.asanyarray(cdf['Price(USD)'] / max(cdf['Price(USD)']))\n",
    "plt.scatter(x,y,color=\"red\")\n",
    "plt.xlabel('Area')\n",
    "plt.ylabel('price')"
   ]
  },
  {
   "cell_type": "code",
   "execution_count": 18,
   "id": "6b474ced-6aa5-4f45-8e2b-d67caacaa861",
   "metadata": {},
   "outputs": [],
   "source": [
    "msk = np.random.rand(len(cdf)) < 0.8\n",
    "train_c = cdf[msk]\n",
    "test_c = cdf[~msk]"
   ]
  },
  {
   "cell_type": "code",
   "execution_count": 19,
   "id": "1beaaa2b-962e-4df9-ae44-64148fb6f86a",
   "metadata": {},
   "outputs": [
    {
     "name": "stdout",
     "output_type": "stream",
     "text": [
      "[[  3918.3618401  -49558.58209202   8487.50621058  16412.52110935\n",
      "    3569.72463942]]\n",
      "[-156103.21184749]\n"
     ]
    }
   ],
   "source": [
    "from sklearn import linear_model\n",
    "regr = linear_model.LinearRegression()\n",
    "train_x = np.asanyarray(train_c[['Area','Room','Parking','Warehouse','Elevator']])\n",
    "train_y = np.asanyarray(train_c[['Price(USD)']])\n",
    "regr.fit(train_x,train_y)\n",
    "print (regr.coef_)\n",
    "print (regr.intercept_)"
   ]
  },
  {
   "cell_type": "code",
   "execution_count": 20,
   "id": "65b8344b-9265-483d-bf02-824e40c657b8",
   "metadata": {},
   "outputs": [
    {
     "name": "stdout",
     "output_type": "stream",
     "text": [
      "Mean absolute error: 66276.36\n",
      "Residual sum of squares: 10338786231.01\n",
      "Variance score: 0.58\n"
     ]
    },
    {
     "name": "stderr",
     "output_type": "stream",
     "text": [
      "C:\\Users\\moreza\\anaconda3\\Lib\\site-packages\\sklearn\\base.py:486: UserWarning: X has feature names, but LinearRegression was fitted without feature names\n",
      "  warnings.warn(\n"
     ]
    }
   ],
   "source": [
    "train_y_= regr.predict(test_c[['Area','Room','Parking','Warehouse','Elevator']])\n",
    "test_x = np.asanyarray(test_c[['Area','Room','Parking','Warehouse','Elevator']])\n",
    "test_y = np.asanyarray(test_c[['Price(USD)']])\n",
    "\n",
    "print(\"Mean absolute error: %.2f\" % np.mean(np.absolute((train_y_ - test_y))))\n",
    "print(\"Residual sum of squares: %.2f\" % np.mean((train_y_ - test_y) ** 2))\n",
    "\n",
    "# Explained variance score: 1 is perfect prediction\n",
    "print('Variance score: %.2f' % regr.score(test_x, test_y))"
   ]
  },
  {
   "cell_type": "code",
   "execution_count": 21,
   "id": "06d4f5c7-6e15-466c-8fc4-c12b5943f97e",
   "metadata": {},
   "outputs": [
    {
     "data": {
      "text/plain": [
       "array([[1.0000e+00, 6.3000e+01, 3.9690e+03],\n",
       "       [1.0000e+00, 7.9000e+01, 6.2410e+03],\n",
       "       [1.0000e+00, 1.2300e+02, 1.5129e+04],\n",
       "       ...,\n",
       "       [1.0000e+00, 7.5000e+01, 5.6250e+03],\n",
       "       [1.0000e+00, 1.0500e+02, 1.1025e+04],\n",
       "       [1.0000e+00, 8.2000e+01, 6.7240e+03]])"
      ]
     },
     "execution_count": 21,
     "metadata": {},
     "output_type": "execute_result"
    }
   ],
   "source": [
    "from sklearn.preprocessing import PolynomialFeatures\n",
    "from sklearn import linear_model\n",
    "train_x = np.asanyarray(train_c[['Area']])\n",
    "train_y = np.asanyarray(train_c[['Price(USD)']])\n",
    "\n",
    "test_x = np.asanyarray(test_c[['Area']])\n",
    "test_y = np.asanyarray(test_c[['Price(USD)']])\n",
    "\n",
    "\n",
    "poly = PolynomialFeatures(degree=2)\n",
    "train_x_poly = poly.fit_transform(train_x)\n",
    "train_x_poly"
   ]
  },
  {
   "cell_type": "code",
   "execution_count": 22,
   "id": "f37e50d0-acd0-496c-ab54-0a407806c6d4",
   "metadata": {},
   "outputs": [
    {
     "name": "stdout",
     "output_type": "stream",
     "text": [
      "Coefficients:  [[   0.         -756.30921543   16.65250429]]\n",
      "Intercept:  [38183.82629783]\n"
     ]
    }
   ],
   "source": [
    "clf = linear_model.LinearRegression()\n",
    "train_y_ = clf.fit(train_x_poly, train_y)\n",
    "# The coefficients\n",
    "print ('Coefficients: ', clf.coef_)\n",
    "print ('Intercept: ',clf.intercept_)"
   ]
  },
  {
   "cell_type": "code",
   "execution_count": 23,
   "id": "25a6b521-2aa0-448b-8f51-fa1e32a859f1",
   "metadata": {},
   "outputs": [
    {
     "name": "stdout",
     "output_type": "stream",
     "text": [
      "Mean absolute error: 59936.71\n",
      "Residual sum of squares (MSE): 8722435776.61\n",
      "R2-score: 0.65\n"
     ]
    }
   ],
   "source": [
    "from sklearn.metrics import r2_score\n",
    "\n",
    "test_x_poly = poly.fit_transform(test_x)\n",
    "test_y_ = clf.predict(test_x_poly)\n",
    "\n",
    "print(\"Mean absolute error: %.2f\" % np.mean(np.absolute(test_y_ - test_y)))\n",
    "print(\"Residual sum of squares (MSE): %.2f\" % np.mean((test_y_ - test_y) ** 2))\n",
    "print(\"R2-score: %.2f\" % r2_score(test_y,test_y_ ) )"
   ]
  },
  {
   "cell_type": "code",
   "execution_count": null,
   "id": "6b9ef5ad-947c-4176-8cf0-6eeffc33736e",
   "metadata": {},
   "outputs": [],
   "source": []
  }
 ],
 "metadata": {
  "kernelspec": {
   "display_name": "Python 3 (ipykernel)",
   "language": "python",
   "name": "python3"
  },
  "language_info": {
   "codemirror_mode": {
    "name": "ipython",
    "version": 3
   },
   "file_extension": ".py",
   "mimetype": "text/x-python",
   "name": "python",
   "nbconvert_exporter": "python",
   "pygments_lexer": "ipython3",
   "version": "3.12.4"
  }
 },
 "nbformat": 4,
 "nbformat_minor": 5
}
